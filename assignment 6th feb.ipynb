{
 "cells": [
  {
   "cell_type": "code",
   "execution_count": 6,
   "id": "3c595393-f50a-480f-b586-29541bec4b2f",
   "metadata": {},
   "outputs": [],
   "source": [
    "def product_of_numeric_values(lst):\n",
    "    flat_lst = []\n",
    "    for item in lst:\n",
    "        if type(item) == list or type(item) == tuple:\n",
    "            flat_lst += [x for x in item if isinstance(x, (int, float))]\n",
    "        elif type(item) == set or type(item) == dict:\n",
    "            for key, val in item.items():\n",
    "                if isinstance(key, (int, float)):\n",
    "                    flat_lst.append(key)\n",
    "                if isinstance(val, (int, float)):\n",
    "                    flat_lst.append(val)\n",
    "        elif isinstance(item, (int, float)):\n",
    "            flat_lst.append(item)\n",
    "    product = 1\n",
    "    for num in flat_lst:\n",
    "        product *= num\n",
    "    return product\n"
   ]
  },
  {
   "cell_type": "code",
   "execution_count": 7,
   "id": "b44d5da4-219b-4f31-9a46-e632d31b06fb",
   "metadata": {},
   "outputs": [],
   "source": [
    " ###question no 2"
   ]
  },
  {
   "cell_type": "code",
   "execution_count": null,
   "id": "6d385c91-13e1-4cdd-bbcc-65f1ae3a71fe",
   "metadata": {},
   "outputs": [],
   "source": [
    "def encrypt_message(message):\n",
    "    # create a dictionary to map each letter to its encrypted counterpart\n",
    "    mapping = {'a': 'z', 'b': 'y', 'c': 'x', 'd': 'w', 'e': 'v', 'f': 'u', 'g': 't', 'h': 's', 'i': 'r',\n",
    "               'j': 'q', 'k': 'p', 'l': 'o', 'm': 'n', 'n': 'm', 'o': 'l', 'p': 'k', 'q': 'j', 'r': 'i',\n",
    "               's': 'h', 't': 'g', 'u': 'f', 'v': 'e', 'w': 'd', 'x': 'c', 'y': 'b', 'z': 'a'}\n",
    "    # replace whitespace with dollar sign\n",
    "    message = message.replace(' ', '$')\n",
    "    # iterate over each character in the message and encrypt it\n",
    "    encrypted = ''\n",
    "    for char in message:\n",
    "        if char.lower() in mapping:\n",
    "            encrypted += mapping[char.lower()]\n",
    "        else:\n",
    "            encrypted += char\n",
    "    return encrypted\n",
    "\n",
    "# example usage:\n",
    "message = 'I want to become a data scientist.'\n",
    "encrypted_message = encrypt_message(message)\n",
    "print(encrypted_message)\n"
   ]
  }
 ],
 "metadata": {
  "kernelspec": {
   "display_name": "Python 3 (ipykernel)",
   "language": "python",
   "name": "python3"
  },
  "language_info": {
   "codemirror_mode": {
    "name": "ipython",
    "version": 3
   },
   "file_extension": ".py",
   "mimetype": "text/x-python",
   "name": "python",
   "nbconvert_exporter": "python",
   "pygments_lexer": "ipython3",
   "version": "3.10.8"
  }
 },
 "nbformat": 4,
 "nbformat_minor": 5
}
